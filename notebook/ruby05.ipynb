{
 "cells": [
  {
   "cell_type": "code",
   "execution_count": 1,
   "id": "736fd0c2",
   "metadata": {},
   "outputs": [
    {
     "data": {
      "text/plain": [
       "[:inline, \"module://matplotlib_rb.backend_inline\"]"
      ]
     },
     "execution_count": 1,
     "metadata": {},
     "output_type": "execute_result"
    }
   ],
   "source": [
    "require \"pycall/import\"\n",
    "require \"numpy\"\n",
    "require \"matplotlib/iruby\"\n",
    "require \"matplotlib/pyplot\"\n",
    "\n",
    "include PyCall::Import\n",
    "pyimport \"pandas\", as: \"pd\"\n",
    "np = Numpy\n",
    "plt = Matplotlib::Pyplot\n",
    "Matplotlib::IRuby.activate"
   ]
  },
  {
   "cell_type": "code",
   "execution_count": 2,
   "id": "342e2768",
   "metadata": {},
   "outputs": [
    {
     "data": {
      "text/plain": [
       "[1, 2, 3, 4, 5, 6]"
      ]
     },
     "execution_count": 2,
     "metadata": {},
     "output_type": "execute_result"
    }
   ],
   "source": [
    "x_set = [1, 2, 3, 4, 5, 6]"
   ]
  },
  {
   "cell_type": "code",
   "execution_count": 3,
   "id": "69474f25",
   "metadata": {},
   "outputs": [
    {
     "data": {
      "text/plain": [
       "#<Proc:0x0000000118101af8 (irb):0 (lambda)>"
      ]
     },
     "execution_count": 3,
     "metadata": {},
     "output_type": "execute_result"
    }
   ],
   "source": [
    "f = ->(x) {\n",
    "  if x_set.include?(x)\n",
    "    x / 21.0\n",
    "  else\n",
    "    0\n",
    "  end\n",
    "}"
   ]
  },
  {
   "cell_type": "code",
   "execution_count": 4,
   "id": "d78753de",
   "metadata": {
    "scrolled": true
   },
   "outputs": [
    {
     "data": {
      "text/plain": [
       "[[1, 2, 3, 4, 5, 6], #<Proc:0x0000000118101af8 (irb):0 (lambda)>]"
      ]
     },
     "execution_count": 4,
     "metadata": {},
     "output_type": "execute_result"
    }
   ],
   "source": [
    "_X = [x_set, f]"
   ]
  },
  {
   "cell_type": "code",
   "execution_count": 5,
   "id": "869eb1e7",
   "metadata": {},
   "outputs": [
    {
     "data": {
      "text/plain": [
       "{1=>0.047619047619047616, 2=>0.09523809523809523, 3=>0.14285714285714285, 4=>0.19047619047619047, 5=>0.23809523809523808, 6=>0.2857142857142857}"
      ]
     },
     "execution_count": 5,
     "metadata": {},
     "output_type": "execute_result"
    }
   ],
   "source": [
    "prob = x_set.map { |x_k| f.(x_k) }\n",
    "x_set.zip(prob).to_h"
   ]
  },
  {
   "cell_type": "code",
   "execution_count": 6,
   "id": "fe4ba786",
   "metadata": {},
   "outputs": [
    {
     "data": {
      "image/png": "[encoded data removed]",
      "text/plain": [
       "<Figure size 1000x600 with 1 Axes>"
      ]
     },
     "metadata": {},
     "output_type": "display_data"
    }
   ],
   "source": [
    "fig = plt.figure(figsize: [10, 6])\n",
    "ax = fig.add_subplot(111)\n",
    "ax.bar(x_set, prob)\n",
    "ax.set_xlabel('とりうる値')\n",
    "ax.set_ylabel('確率')\n",
    "plt.show"
   ]
  },
  {
   "cell_type": "code",
   "execution_count": 7,
   "id": "a6483ec1",
   "metadata": {},
   "outputs": [
    {
     "data": {
      "text/plain": [
       "true"
      ]
     },
     "execution_count": 7,
     "metadata": {},
     "output_type": "execute_result"
    }
   ],
   "source": [
    "prob.all? { |p| p > 0 }"
   ]
  },
  {
   "cell_type": "code",
   "execution_count": 8,
   "id": "66d4b978",
   "metadata": {},
   "outputs": [
    {
     "data": {
      "text/plain": [
       "1.0"
      ]
     },
     "execution_count": 8,
     "metadata": {},
     "output_type": "execute_result"
    }
   ],
   "source": [
    "prob.sum"
   ]
  },
  {
   "cell_type": "code",
   "execution_count": 9,
   "id": "77ba9090",
   "metadata": {},
   "outputs": [
    {
     "data": {
      "text/plain": [
       "#<Proc:0x000000012121bf20 (irb):0 (lambda)>"
      ]
     },
     "execution_count": 9,
     "metadata": {},
     "output_type": "execute_result"
    }
   ],
   "source": [
    "_F = ->(x) {\n",
    "  x_set.filter_map { |x_k| x_k <= x && f.(x_k) }.sum\n",
    "}"
   ]
  },
  {
   "cell_type": "code",
   "execution_count": 10,
   "id": "31aad29b",
   "metadata": {},
   "outputs": [
    {
     "data": {
      "text/plain": [
       "0.2857142857142857"
      ]
     },
     "execution_count": 10,
     "metadata": {},
     "output_type": "execute_result"
    }
   ],
   "source": [
    "_F.(3)"
   ]
  },
  {
   "cell_type": "code",
   "execution_count": 11,
   "id": "f3c1efac",
   "metadata": {},
   "outputs": [
    {
     "data": {
      "text/plain": [
       "{5=>0.047619047619047616, 7=>0.09523809523809523, 9=>0.14285714285714285, 11=>0.19047619047619047, 13=>0.23809523809523808, 15=>0.2857142857142857}"
      ]
     },
     "execution_count": 11,
     "metadata": {},
     "output_type": "execute_result"
    }
   ],
   "source": [
    "y_set = x_set.map { |x_k| 2 * x_k + 3}\n",
    "prob = x_set.map { |x_k| f.(x_k)}\n",
    "y_set.zip(prob).to_h"
   ]
  },
  {
   "cell_type": "code",
   "execution_count": 12,
   "id": "975881e6",
   "metadata": {},
   "outputs": [
    {
     "data": {
      "text/plain": [
       "4.333333333333333"
      ]
     },
     "execution_count": 12,
     "metadata": {},
     "output_type": "execute_result"
    }
   ],
   "source": [
    "x_set.map { |x_k| x_k * f.(x_k) }.sum"
   ]
  },
  {
   "cell_type": "code",
   "execution_count": 13,
   "id": "cd575fe8",
   "metadata": {},
   "outputs": [
    {
     "data": {
      "text/plain": [
       "4.329309"
      ]
     },
     "execution_count": 13,
     "metadata": {},
     "output_type": "execute_result"
    }
   ],
   "source": [
    "sample = np.random.choice(x_set, 1e6.to_i, p: prob)\n",
    "np.mean(sample)"
   ]
  },
  {
   "cell_type": "code",
   "execution_count": 14,
   "id": "f7814b68",
   "metadata": {},
   "outputs": [
    {
     "data": {
      "text/plain": [
       "#<Proc:0x000000012125ea78 (irb):0 (lambda)>"
      ]
     },
     "execution_count": 14,
     "metadata": {},
     "output_type": "execute_result"
    }
   ],
   "source": [
    "_E = ->(_X, g = ->(x) {x}) {\n",
    "  x_set, f = _X\n",
    "  x_set.map { |x_k| g.(x_k) * f.(x_k) }.sum\n",
    "}"
   ]
  },
  {
   "cell_type": "code",
   "execution_count": 15,
   "id": "ba8c1cd3",
   "metadata": {},
   "outputs": [
    {
     "data": {
      "text/plain": [
       "4.333333333333333"
      ]
     },
     "execution_count": 15,
     "metadata": {},
     "output_type": "execute_result"
    }
   ],
   "source": [
    "_E.(_X)"
   ]
  },
  {
   "cell_type": "code",
   "execution_count": 16,
   "id": "fd600858",
   "metadata": {},
   "outputs": [
    {
     "data": {
      "text/plain": [
       "11.666666666666666"
      ]
     },
     "execution_count": 16,
     "metadata": {},
     "output_type": "execute_result"
    }
   ],
   "source": [
    "_E.(_X, ->(x) { 2*x + 3 })"
   ]
  },
  {
   "cell_type": "code",
   "execution_count": 17,
   "id": "48767953",
   "metadata": {},
   "outputs": [
    {
     "data": {
      "text/plain": [
       "11.666666666666666"
      ]
     },
     "execution_count": 17,
     "metadata": {},
     "output_type": "execute_result"
    }
   ],
   "source": [
    "2 * _E.(_X) + 3"
   ]
  },
  {
   "cell_type": "code",
   "execution_count": 18,
   "id": "c4bc5649",
   "metadata": {},
   "outputs": [
    {
     "data": {
      "text/plain": [
       "2.222222222222222"
      ]
     },
     "execution_count": 18,
     "metadata": {},
     "output_type": "execute_result"
    }
   ],
   "source": [
    "mean = _E.(_X)\n",
    "x_set.map { |x_k| (x_k - mean)**2 * f.(x_k)}.sum"
   ]
  },
  {
   "cell_type": "code",
   "execution_count": 19,
   "id": "33a789f1",
   "metadata": {},
   "outputs": [
    {
     "data": {
      "text/plain": [
       "#<Proc:0x0000000121d22b58 (irb):0 (lambda)>"
      ]
     },
     "execution_count": 19,
     "metadata": {},
     "output_type": "execute_result"
    }
   ],
   "source": [
    "_V = ->(_X, g = ->(x) { x }) {\n",
    "  x_set, f = _X\n",
    "  mean = _E.(_X, g)\n",
    "  x_set.map { |x_k| (g.(x_k)-mean)**2 * f.(x_k)  }.sum\n",
    "}"
   ]
  },
  {
   "cell_type": "code",
   "execution_count": 20,
   "id": "7b2aeb5c",
   "metadata": {},
   "outputs": [
    {
     "data": {
      "text/plain": [
       "2.222222222222222"
      ]
     },
     "execution_count": 20,
     "metadata": {},
     "output_type": "execute_result"
    }
   ],
   "source": [
    "_V.(_X)"
   ]
  },
  {
   "cell_type": "code",
   "execution_count": 21,
   "id": "b66bc126",
   "metadata": {},
   "outputs": [
    {
     "data": {
      "text/plain": [
       "8.888888888888888"
      ]
     },
     "execution_count": 21,
     "metadata": {},
     "output_type": "execute_result"
    }
   ],
   "source": [
    "_V.(_X, ->(x) { 2*x + 3 })"
   ]
  },
  {
   "cell_type": "code",
   "execution_count": 22,
   "id": "59d7ae51",
   "metadata": {},
   "outputs": [
    {
     "data": {
      "text/plain": [
       "8.888888888888888"
      ]
     },
     "execution_count": 22,
     "metadata": {},
     "output_type": "execute_result"
    }
   ],
   "source": [
    "2**2 * _V.(_X)"
   ]
  },
  {
   "cell_type": "code",
   "execution_count": 23,
   "id": "edbc441f",
   "metadata": {},
   "outputs": [
    {
     "data": {
      "text/plain": [
       "[1, 2, 3, 4, 5, 6]"
      ]
     },
     "execution_count": 23,
     "metadata": {},
     "output_type": "execute_result"
    }
   ],
   "source": [
    "x_set = (2...13).to_a\n",
    "y_set = (1...7).to_a"
   ]
  },
  {
   "cell_type": "code",
   "execution_count": 24,
   "id": "5d15f4d1",
   "metadata": {},
   "outputs": [
    {
     "data": {
      "text/plain": [
       "#<Proc:0x0000000121d86cc0 (irb):0 (lambda)>"
      ]
     },
     "execution_count": 24,
     "metadata": {},
     "output_type": "execute_result"
    }
   ],
   "source": [
    "f_XY = ->(x, y) {\n",
    "  if 1 <= y && y <= 6 and 1 <= x - y && x - y <= 6\n",
    "    y * (x-y) / 441.0\n",
    "  else\n",
    "    0\n",
    "  end\n",
    "}"
   ]
  },
  {
   "cell_type": "code",
   "execution_count": 25,
   "id": "abcb22ec",
   "metadata": {},
   "outputs": [
    {
     "data": {
      "text/plain": [
       "[[2, 3, 4, 5, 6, 7, 8, 9, 10, 11, 12], [1, 2, 3, 4, 5, 6], #<Proc:0x0000000121d86cc0 (irb):0 (lambda)>]"
      ]
     },
     "execution_count": 25,
     "metadata": {},
     "output_type": "execute_result"
    }
   ],
   "source": [
    "_XY = [x_set, y_set, f_XY]"
   ]
  },
  {
   "cell_type": "code",
   "execution_count": 26,
   "id": "b3779a10",
   "metadata": {},
   "outputs": [
    {
     "data": {
      "image/png": "[encoded data removed]",
      "text/plain": [
       "<Figure size 1000x800 with 2 Axes>"
      ]
     },
     "metadata": {},
     "output_type": "display_data"
    }
   ],
   "source": [
    "prob = np.array(x_set.map { |x_i| y_set.map { |y_j| f_XY.(x_i, y_j) } })\n",
    "fig = plt.figure(figsize: [10, 8])\n",
    "ax = fig.add_subplot(111)\n",
    "c = ax.pcolor(prob)\n",
    "ax.set_xticks(np.arange(prob.shape[1]) + 0.5, minor: false)\n",
    "ax.set_yticks(np.arange(prob.shape[0]) + 0.5, minor: false)\n",
    "ax.set_xticklabels(np.arange(1, 7), minor: false)\n",
    "ax.set_yticklabels(np.arange(2, 13), minor: false)\n",
    "ax.invert_yaxis\n",
    "ax.xaxis.tick_top\n",
    "fig.colorbar(c, ax: ax)\n",
    "plt.show"
   ]
  },
  {
   "cell_type": "code",
   "execution_count": 27,
   "id": "98e37acc",
   "metadata": {},
   "outputs": [
    {
     "data": {
      "text/plain": [
       "true"
      ]
     },
     "execution_count": 27,
     "metadata": {},
     "output_type": "execute_result"
    }
   ],
   "source": [
    "np.all(prob >= 0)"
   ]
  },
  {
   "cell_type": "code",
   "execution_count": 28,
   "id": "9d8cc9d1",
   "metadata": {},
   "outputs": [
    {
     "data": {
      "text/plain": [
       "1.0"
      ]
     },
     "execution_count": 28,
     "metadata": {},
     "output_type": "execute_result"
    }
   ],
   "source": [
    "np.sum(prob)"
   ]
  },
  {
   "cell_type": "code",
   "execution_count": 29,
   "id": "aff65a7e",
   "metadata": {},
   "outputs": [
    {
     "data": {
      "text/plain": [
       "#<Proc:0x0000000122165878 (irb):0 (lambda)>"
      ]
     },
     "execution_count": 29,
     "metadata": {},
     "output_type": "execute_result"
    }
   ],
   "source": [
    "f_X = ->(x) {\n",
    "  y_set.map { |y_k| f_XY.(x, y_k) }.sum\n",
    "}"
   ]
  },
  {
   "cell_type": "code",
   "execution_count": 30,
   "id": "32d3a920",
   "metadata": {},
   "outputs": [
    {
     "data": {
      "text/plain": [
       "#<Proc:0x000000012218fe20 (irb):0 (lambda)>"
      ]
     },
     "execution_count": 30,
     "metadata": {},
     "output_type": "execute_result"
    }
   ],
   "source": [
    "f_Y = ->(y) {\n",
    "  x_set.map { |x_k| f_XY.(x_k, y) }.sum\n",
    "}"
   ]
  },
  {
   "cell_type": "code",
   "execution_count": 31,
   "id": "cb9b0982",
   "metadata": {},
   "outputs": [
    {
     "data": {
      "text/plain": [
       "[[1, 2, 3, 4, 5, 6], #<Proc:0x000000012218fe20 (irb):0 (lambda)>]"
      ]
     },
     "execution_count": 31,
     "metadata": {},
     "output_type": "execute_result"
    }
   ],
   "source": [
    "_X = [x_set, f_X]\n",
    "_Y = [y_set, f_Y]"
   ]
  },
  {
   "cell_type": "code",
   "execution_count": 32,
   "id": "f3803b50",
   "metadata": {},
   "outputs": [
    {
     "data": {
      "image/png": "[encoded data removed]",
      "text/plain": [
       "<Figure size 1200x400 with 2 Axes>"
      ]
     },
     "metadata": {},
     "output_type": "display_data"
    }
   ],
   "source": [
    "prob_x = np.array(x_set.map { |x_k| f_X.(x_k) })\n",
    "prob_y = np.array(y_set.map { |y_k| f_Y.(y_k) })\n",
    "\n",
    "fig = plt.figure(figsize: [12, 4])\n",
    "ax1 = fig.add_subplot(121)\n",
    "ax2 = fig.add_subplot(122)\n",
    "\n",
    "ax1.bar(x_set, prob_x)\n",
    "ax1.set_title('Xの周辺分布')\n",
    "ax1.set_xlabel('Xのとりうる値')\n",
    "ax1.set_ylabel('確率')\n",
    "ax1.set_xticks(x_set)\n",
    "\n",
    "ax2.bar(y_set, prob_y)\n",
    "ax2.set_title('Yの周辺分布')\n",
    "ax2.set_xlabel('Yのとりうる値')\n",
    "ax2.set_ylabel('確率')\n",
    "\n",
    "plt.show"
   ]
  },
  {
   "cell_type": "code",
   "execution_count": 33,
   "id": "5c90fbf6",
   "metadata": {},
   "outputs": [
    {
     "data": {
      "text/plain": [
       "8.666666666666666"
      ]
     },
     "execution_count": 33,
     "metadata": {},
     "output_type": "execute_result"
    }
   ],
   "source": [
    "y_set.flat_map { |y_j| x_set.map { |x_i| x_i * f_XY.(x_i, y_j) } }.sum"
   ]
  },
  {
   "cell_type": "code",
   "execution_count": 34,
   "id": "d6ac70e1",
   "metadata": {},
   "outputs": [
    {
     "data": {
      "text/plain": [
       "#<Proc:0x00000001223a5e58 (irb):0 (lambda)>"
      ]
     },
     "execution_count": 34,
     "metadata": {},
     "output_type": "execute_result"
    }
   ],
   "source": [
    "_E = ->(_XY, g) {\n",
    "  x_set, y_set, f_XY = _XY\n",
    "  y_set.flat_map { |y_j| x_set.map { |x_i| g.(x_i, y_j) * f_XY.(x_i, y_j) } }.sum\n",
    "}"
   ]
  },
  {
   "cell_type": "code",
   "execution_count": 35,
   "id": "08151b24",
   "metadata": {},
   "outputs": [
    {
     "data": {
      "text/plain": [
       "8.666666666666666"
      ]
     },
     "execution_count": 35,
     "metadata": {},
     "output_type": "execute_result"
    }
   ],
   "source": [
    "mean_X = _E.(_XY, ->(x, y) { x })"
   ]
  },
  {
   "cell_type": "code",
   "execution_count": 36,
   "id": "7f24d06b",
   "metadata": {},
   "outputs": [
    {
     "data": {
      "text/plain": [
       "4.333333333333333"
      ]
     },
     "execution_count": 36,
     "metadata": {},
     "output_type": "execute_result"
    }
   ],
   "source": [
    "mean_Y = _E.(_XY, ->(x, y) { y })"
   ]
  },
  {
   "cell_type": "code",
   "execution_count": 37,
   "id": "7ff21863",
   "metadata": {},
   "outputs": [
    {
     "data": {
      "text/plain": [
       "[2, 3]"
      ]
     },
     "execution_count": 37,
     "metadata": {},
     "output_type": "execute_result"
    }
   ],
   "source": [
    "a, b = 2, 3"
   ]
  },
  {
   "cell_type": "code",
   "execution_count": 38,
   "id": "9e5daf01",
   "metadata": {},
   "outputs": [
    {
     "data": {
      "text/plain": [
       "30.333333333333332"
      ]
     },
     "execution_count": 38,
     "metadata": {},
     "output_type": "execute_result"
    }
   ],
   "source": [
    "_E.(_XY, ->(x, y) { a*x + b*y })"
   ]
  },
  {
   "cell_type": "code",
   "execution_count": 39,
   "id": "4d2f23c0",
   "metadata": {},
   "outputs": [
    {
     "data": {
      "text/plain": [
       "30.333333333333332"
      ]
     },
     "execution_count": 39,
     "metadata": {},
     "output_type": "execute_result"
    }
   ],
   "source": [
    "a * mean_X + b * mean_Y"
   ]
  },
  {
   "cell_type": "code",
   "execution_count": 40,
   "id": "93a15605",
   "metadata": {},
   "outputs": [
    {
     "data": {
      "text/plain": [
       "4.444444444444445"
      ]
     },
     "execution_count": 40,
     "metadata": {},
     "output_type": "execute_result"
    }
   ],
   "source": [
    " y_set.flat_map { |y_j| x_set.map { |x_i| (x_i-mean_X)**2 * f_XY.(x_i, y_j) } }.sum"
   ]
  },
  {
   "cell_type": "code",
   "execution_count": 41,
   "id": "d6b65b79",
   "metadata": {},
   "outputs": [
    {
     "data": {
      "text/plain": [
       "#<Proc:0x000000012242ec80 (irb):0 (lambda)>"
      ]
     },
     "execution_count": 41,
     "metadata": {},
     "output_type": "execute_result"
    }
   ],
   "source": [
    "_V = ->(_XY, g) {\n",
    "  x_set, y_set, f_XY = _XY\n",
    "  mean = _E.(_XY, g)\n",
    "   y_set.flat_map { |y_j| x_set.map { |x_i| (g.(x_i, y_j)-mean)**2 * f_XY.(x_i, y_j) } }.sum\n",
    "}"
   ]
  },
  {
   "cell_type": "code",
   "execution_count": 42,
   "id": "99e444c2",
   "metadata": {},
   "outputs": [
    {
     "data": {
      "text/plain": [
       "4.444444444444445"
      ]
     },
     "execution_count": 42,
     "metadata": {},
     "output_type": "execute_result"
    }
   ],
   "source": [
    "var_X = _V.(_XY, ->(x, y) { x })"
   ]
  },
  {
   "cell_type": "code",
   "execution_count": 43,
   "id": "7b9ac5e2",
   "metadata": {},
   "outputs": [
    {
     "data": {
      "text/plain": [
       "2.2222222222222223"
      ]
     },
     "execution_count": 43,
     "metadata": {},
     "output_type": "execute_result"
    }
   ],
   "source": [
    "var_Y = _V.(_XY, ->(x, y) { y })"
   ]
  },
  {
   "cell_type": "code",
   "execution_count": 44,
   "id": "c663f4c6",
   "metadata": {},
   "outputs": [
    {
     "data": {
      "text/plain": [
       "#<Proc:0x000000012244dd10 (irb):0 (lambda)>"
      ]
     },
     "execution_count": 44,
     "metadata": {},
     "output_type": "execute_result"
    }
   ],
   "source": [
    "_Cov = ->(_XY) {\n",
    "  x_set, y_set, f_XY = _XY\n",
    "  mean_X = _E.(_XY, ->(x, y) { x })\n",
    "  mean_Y = _E.(_XY, ->(x, y) { y })\n",
    "  y_set.flat_map { |y_j| x_set.map { |x_i| (x_i-mean_X) * (y_j-mean_Y) * f_XY.(x_i, y_j) } }.sum\n",
    "}"
   ]
  },
  {
   "cell_type": "code",
   "execution_count": 45,
   "id": "bcdc6d06",
   "metadata": {},
   "outputs": [
    {
     "data": {
      "text/plain": [
       "2.2222222222222223"
      ]
     },
     "execution_count": 45,
     "metadata": {},
     "output_type": "execute_result"
    }
   ],
   "source": [
    "cov_xy = _Cov.(_XY)"
   ]
  },
  {
   "cell_type": "code",
   "execution_count": 46,
   "id": "97c013ef",
   "metadata": {},
   "outputs": [
    {
     "data": {
      "text/plain": [
       "64.44444444444444"
      ]
     },
     "execution_count": 46,
     "metadata": {},
     "output_type": "execute_result"
    }
   ],
   "source": [
    "_V.(_XY, ->(x, y) { a*x + b*y })"
   ]
  },
  {
   "cell_type": "code",
   "execution_count": 47,
   "id": "1e87c8cf",
   "metadata": {},
   "outputs": [
    {
     "data": {
      "text/plain": [
       "64.44444444444444"
      ]
     },
     "execution_count": 47,
     "metadata": {},
     "output_type": "execute_result"
    }
   ],
   "source": [
    "a**2 * var_X + b**2 * var_Y + 2*a*b * cov_xy"
   ]
  }
 ],
 "metadata": {
  "kernelspec": {
   "display_name": "Ruby 3.2.0",
   "language": "ruby",
   "name": "ruby"
  },
  "language_info": {
   "file_extension": ".rb",
   "mimetype": "application/x-ruby",
   "name": "ruby",
   "version": "3.2.0"
  }
 },
 "nbformat": 4,
 "nbformat_minor": 5
}
